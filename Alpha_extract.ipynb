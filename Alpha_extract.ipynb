{
 "cells": [
  {
   "cell_type": "code",
   "execution_count": 2,
   "id": "a0011ccf-4fa5-4b76-b664-3b9995993b43",
   "metadata": {},
   "outputs": [
    {
     "name": "stdout",
     "output_type": "stream",
     "text": [
      "alpha=6.000\n"
     ]
    },
    {
     "data": {
      "text/plain": [
       "True"
      ]
     },
     "execution_count": 2,
     "metadata": {},
     "output_type": "execute_result"
    }
   ],
   "source": [
    "import torch\n",
    "from collections import defaultdict\n",
    "import numpy as np\n",
    "import mcubes\n",
    "import trimesh\n",
    "\n",
    "# from models.rendering import *\n",
    "#from models.nerf import *\n",
    "\n",
    "# from datasets import dataset_dict\n",
    "\n",
    "# from utils import load_ckpt\n",
    "from utils import *\n",
    "from run_nerf_helpers import *\n",
    "\n",
    "import pickle\n",
    "import open3d as o3d\n",
    "\n",
    "mesh = o3d.io.read_triangle_mesh('000.ply')\n",
    "\n",
    "# mesh = o3dtut.get_bunny_mesh()\n",
    "pcd = mesh.sample_points_poisson_disk(15750)\n",
    "# o3d.visualization.draw_geometries([pcd])\n",
    "alpha = 6\n",
    "print(f\"alpha={alpha:.3f}\")\n",
    "mesh = o3d.geometry.TriangleMesh.create_from_point_cloud_alpha_shape(pcd, alpha)\n",
    "mesh.compute_vertex_normals()\n",
    "# o3d.visualization.draw_geometries([mesh], mesh_show_back_face=True)\n",
    "\n",
    "o3d.io.write_triangle_mesh('new_alpha.ply', mesh)\n",
    "\n",
    " "
   ]
  },
  {
   "cell_type": "code",
   "execution_count": null,
   "id": "0a01eb0c-f6ef-4158-b9d8-ff62af016aff",
   "metadata": {},
   "outputs": [],
   "source": []
  }
 ],
 "metadata": {
  "kernelspec": {
   "display_name": "Python 3 (ipykernel)",
   "language": "python",
   "name": "python3"
  },
  "language_info": {
   "codemirror_mode": {
    "name": "ipython",
    "version": 3
   },
   "file_extension": ".py",
   "mimetype": "text/x-python",
   "name": "python",
   "nbconvert_exporter": "python",
   "pygments_lexer": "ipython3",
   "version": "3.10.12"
  }
 },
 "nbformat": 4,
 "nbformat_minor": 5
}
